{
 "cells": [
  {
   "cell_type": "code",
   "execution_count": 4,
   "metadata": {},
   "outputs": [],
   "source": [
    "from IPython.display import Image\n",
    "from IPython.core.display import HTML "
   ]
  },
  {
   "cell_type": "markdown",
   "metadata": {},
   "source": [
    "# Temporal Difference Learning Minimizes Cost with Delayed Feedback in Supply Chain Paradigm"
   ]
  },
  {
   "cell_type": "markdown",
   "metadata": {},
   "source": [
    "## Background\n",
    "\n",
    "### Delayed Feedback: An example\n",
    "\n",
    "* When playing a game of tic-tac-toe, the value of any given move is not known until many moves later\n",
    "* In this scenario, the **feedback for the move is delayed** because the action executed cannot be directly paired with the feedback recieved\n",
    "* When Temporal Difference Learning is applied, the agent finds the value of actions by **updating the reward values of previous states** with each move made. Through this, the agent learns to select actions that lead to the greatest total reward after multiple rounds"
   ]
  },
  {
   "cell_type": "code",
   "execution_count": 5,
   "metadata": {},
   "outputs": [
    {
     "data": {
      "text/html": [
       "<img src=\"https://raw.githubusercontent.com/pbelsey/Neural-Cog-Final-Project/master/td_tictactoe.png\" width=\"500\"/>"
      ],
      "text/plain": [
       "<IPython.core.display.Image object>"
      ]
     },
     "execution_count": 5,
     "metadata": {},
     "output_type": "execute_result"
    }
   ],
   "source": [
    "Image(url='https://raw.githubusercontent.com/pbelsey/Neural-Cog-Final-Project/master/td_tictactoe.png', width=500)"
   ]
  },
  {
   "cell_type": "markdown",
   "metadata": {},
   "source": [
    "### **Temporal Difference (TD) Learning **\n",
    "* ** A model-free Reinforcement Learning algorithm ** concerned with finding the optimal policy to solve a problem\n",
    "    * **Model-based** RL requires complete knowledge of the environment, including rewards and their probabilities, to find the optimal policy (ex. dynamic programming)\n",
    "    * **Model-free** RL estimates rewards and their probabilites (value funtions) by interacting with the environment to determine the optimal policy \n",
    "        * ex. Monte Carlo methods and TD\n",
    "    \n",
    "* A way to **estimate value functions for a particular policy**\n",
    "    * **Value functions** estimate how good a particular action will be in a given state, and can be written as:\n",
    "        * **V(s)**, the value of state, *s*, under a policy, *p*\n",
    "        * **Q(s,a)**, thae value of action, *a*, in state, *s*, under policy, *p* \n",
    "            * Q-value\n",
    "        \n",
    "* Value functions are updated at each time step\n",
    "    * TD uses **\"bootstrapping\" method**, which allows an estimate of the final reward to be calculated at each state. The state-action value is updated at every step\n",
    "    * This is **unlike Monte Carlo methods**, where the path taken to reach the final state is traced back and each **value is updated only when the final reward is received**\n"
   ]
  },
  {
   "cell_type": "markdown",
   "metadata": {},
   "source": [
    "### TD-Learning Equation: \n",
    "$$Q(s_t, a_t) \\leftarrow  Q(s_t, a_t) + \\alpha (r_{t+1} + \\gamma  Q(s_{t+1}, a_{t+1}) - Q(s_t, a_t))$$\n"
   ]
  },
  {
   "cell_type": "markdown",
   "metadata": {},
   "source": [
    "* TD-Learning takes the original state-action pair and adds a learning rate modified term of the difference between the discounted value of the new state-action pair and the original state-action pair, in addition to a new reward prediction \n",
    "     * the value of the original state-action **increases** if the value of the new state-action is **greater**\n",
    "     * the value of the original state-action **decreases** if the value of the new state-action is **less**\n",
    "     \n",
    "* The **discount factor**, $\\gamma$, serves as a way to weight estimates based on their placement in time   \n",
    "     * 0 < $\\gamma$ < 1, where $\\gamma$ values closer **1** place **greater value on future rewards** \n",
    "     * values closer to **0** place **greater value on immediate rewards**\n",
    "* Softmax action selection policy:\n",
    "    * Actions are weighted according to their action-value estimate\n",
    "    "
   ]
  },
  {
   "cell_type": "markdown",
   "metadata": {},
   "source": [
    "* By maintaing the same state, the model can be simplified to:"
   ]
  },
  {
   "cell_type": "markdown",
   "metadata": {},
   "source": [
    "$$Q(a_t) \\leftarrow  Q(a_t) + \\alpha (r_{t+1} + \\gamma  Q(a_{t+1}) - Q(a_t))$$"
   ]
  },
  {
   "cell_type": "markdown",
   "metadata": {},
   "source": [
    "### TD Compared to Q-Learning:\n",
    "\n",
    "* TD-Learning as On or Off Policy\n",
    "    * **On-Policy** learning requires value functions to be updated through experience\n",
    "        * Methods estimate the total future reward for state-action pairs assuming the current policy is followed\n",
    "        * ex. State–action–reward–state–action **(SARSA)**\n",
    "    * **Off-Policy** methods update value functions using hypothetical actions, those which have not actually been tried\n",
    "        * Estimates the total future reward for state-action pairs assuming a greedy policy, even if a greedy policy was not used\n",
    "        * ex. **Q-Learning**\n",
    "        \n",
    "#### Q-Learning Equation\n",
    "$$Q(a) \\leftarrow  Q(a) + \\alpha (r + \\gamma  max_\\alpha Q(a_{t+1})- Q(a))$$\n",
    "\n",
    "where ** $max_\\alpha$ is the maximum reward attainable** in the new state and ** $\\gamma$ is set below 0** so the algorithm converges to the action-value function for a target policy\n",
    "\n",
    "simplifies to: \n",
    "\n",
    "$$Q(a_i) \\leftarrow  Q(a_i) + \\alpha (r_t - Q(a_i))$$"
   ]
  },
  {
   "cell_type": "markdown",
   "metadata": {},
   "source": [
    "As TD-Learning is a more general form of Q-Learning, we can broaden the above Q-Learning model to execute a **learning process employing delayed feedback by creating a SARSA model.**\n",
    "* This will allow us to use not necessarily the maximum reward to update Q-values, but to **select a new action (and therefore new reward) under the same policy as the original action**\n",
    "* Because this form takes the action selection method into account when learning, it may not arrive at the most optimal policy (learns a near optimal policy)\n",
    "    * Could result in **greater overall reward** because SARSA **updates value functions only through experience** and not based on what is assumed to be an optimal policy  \n",
    "        * A more conservative approach\n",
    "\n",
    "$$Q(a_t) \\leftarrow  Q(a_t) + \\alpha (r_{t+1} + \\gamma  Q(a_{t+1}) - Q(a_t))$$\n",
    "\n"
   ]
  },
  {
   "cell_type": "markdown",
   "metadata": {},
   "source": [
    "### **The Beer Game**\n",
    "\n",
    "**“The Beer Game”** is a dynamic system scenario, with a supply chain with five levels ranging from consumer to factory. The goal is to match the demand of buyer exactly, so that unsold products and backorders are minimized and difference between supply and demand is equal to 0 \n",
    "\n",
    "**Delays in the system** prevent ideal behavior. "
   ]
  },
  {
   "cell_type": "code",
   "execution_count": 6,
   "metadata": {},
   "outputs": [
    {
     "data": {
      "text/html": [
       "<img src=\"https://raw.githubusercontent.com/pbelsey/Neural-Cog-Final-Project/master/beer-game-large.png\" width=\"800\"/>"
      ],
      "text/plain": [
       "<IPython.core.display.Image object>"
      ]
     },
     "execution_count": 6,
     "metadata": {},
     "output_type": "execute_result"
    }
   ],
   "source": [
    "Image(url='https://raw.githubusercontent.com/pbelsey/Neural-Cog-Final-Project/master/beer-game-large.png', width=800)"
   ]
  },
  {
   "cell_type": "markdown",
   "metadata": {},
   "source": [
    "### **Our Beer Game**\n",
    "\n",
    "* Consists of a supply chain containing:\n",
    "    - Consumer (C), Store (S), Warehouse (W), and Factory (F) \n",
    "\n",
    "* For the Warehouse, a case of beer costs: \n",
    "    - \\$0.50 to store, and \\$1 when backordered \n",
    "\n",
    "* Orders from the Factory must be placed:\n",
    "     - 1 week ahead of time, as they take 1 week to deliver. Therefore, the Warehouse must learn to predict the Store's needs 1 week beforehand\n",
    "\n",
    "**Q-Agent Warehouse learns the optimal number of cases of beer to order** to supply for the Store, **in order to minimize costs**\n",
    "   * costs are used to update Q-values\n",
    "    \n",
    "* The agent uses a Softmax Policy in order to pick actions from the state - action space\n"
   ]
  },
  {
   "cell_type": "code",
   "execution_count": 7,
   "metadata": {},
   "outputs": [
    {
     "data": {
      "text/html": [
       "<img src=\"https://raw.githubusercontent.com/pbelsey/Neural-Cog-Final-Project/master/SupplyChainz.png\" width=\"1000\"/>"
      ],
      "text/plain": [
       "<IPython.core.display.Image object>"
      ]
     },
     "execution_count": 7,
     "metadata": {},
     "output_type": "execute_result"
    }
   ],
   "source": [
    "Image(url='https://raw.githubusercontent.com/pbelsey/Neural-Cog-Final-Project/master/SupplyChainz.png', width=1000)"
   ]
  },
  {
   "cell_type": "markdown",
   "metadata": {},
   "source": [
    "# Problem: The Credit Assignment Problem  "
   ]
  },
  {
   "cell_type": "markdown",
   "metadata": {},
   "source": [
    "### How do we assign credit to an action when many decisions contribute to the action?\n",
    "\n",
    "* A **reward signal only weakly affects the temporally distant states** that preceded it \n",
    "    * Many iterative steps must be performed to propagate a reward signal so that it effects states and actions\n",
    "        * Errors are backpropagated, and through **many adjustments of the values of actions, a near optimal policy is converged on**\n",
    "* In the Beer Game, after many rounds the Warehous Q-Agent will learn the most rewarding number of cases to order so that backorders and overstock are near 0\n",
    "* SARSA method enables rewards to be maximized (through cost minimization), without incurring unnecessary costs that could result from Q-learning and assumption of greedy policy \n",
    "\n"
   ]
  },
  {
   "cell_type": "markdown",
   "metadata": {},
   "source": [
    "# Model: From Q to TD - Learning"
   ]
  },
  {
   "cell_type": "code",
   "execution_count": 24,
   "metadata": {},
   "outputs": [],
   "source": [
    "from __future__ import division \n",
    "\n",
    "import numpy as np \n",
    "from numpy import array\n",
    "from numpy.random import sample as rs\n",
    "from numpy import newaxis as na\n",
    "import pandas as pd\n",
    "from scipy.stats import sem\n",
    "import seaborn as sns\n",
    "import string\n",
    "\n",
    "import matplotlib.pyplot as plt\n",
    "#import warnings\n",
    "from tdlearn import * \n",
    "\n",
    "warnings.simplefilter('ignore', np.RankWarning)\n",
    "warnings.filterwarnings(\"ignore\", module=\"matplotlib\")\n",
    "warnings.filterwarnings(\"ignore\")\n",
    "sns.set(style='white', font_scale=1.3)\n",
    "\n",
    "%matplotlib inline"
   ]
  },
  {
   "cell_type": "markdown",
   "metadata": {},
   "source": [
    "maybe edit hypothesis"
   ]
  },
  {
   "cell_type": "markdown",
   "metadata": {},
   "source": [
    "### **Hypothesis:**\n",
    "** An agent will learn to maintain a net inventory at 0 in fewer time-steps when: **\n",
    "   * \n",
    "       * \n",
    "           * $\\alpha$ is higher\n",
    "           * $\\beta$ is lower\n",
    "           * $\\gamma$ is lower\n",
    "\n",
    "* **High learning rate** may be optimal because the value of certain actions will change depending on the environment\n",
    "* **Liberal strategy**  (low $\\beta$), the agent may be more likely to explore the option of ordering lower stock, even though it may seem counterintuitive towards the goal reducing the cost of backorders at a particular time-step\n",
    "* **Lower discount rate** will help the agent integrate the feedback despite the effect of time delays"
   ]
  },
  {
   "cell_type": "markdown",
   "metadata": {},
   "source": [
    "### **Testing:**\n",
    "* The hypotheses will be tested by choosing **low and high values of $\\alpha,  \\beta,$ and $\\gamma$** for the Warehouse Q - Agent\n",
    "    * Each **trial will contain twenty rounds** of the Beer Game\n",
    "* Other suppliers will be programmed to meet **consumer demand** for each week, which **will be held constant**. The revenue from selling each unit as well as the **fees** for backorders and excess units will also be **held constant.**"
   ]
  },
  {
   "cell_type": "markdown",
   "metadata": {},
   "source": [
    "## TD-Learning Code"
   ]
  },
  {
   "cell_type": "code",
   "execution_count": 48,
   "metadata": {},
   "outputs": [],
   "source": [
    "def update_Qi(Qval0, Qval1, reward1, alpha, gamma, beta):\n",
    "\t\"\"\" update q-value of selected action, given reward and alpha\n",
    "\t\"\"\"\n",
    "\treturn Qval0 + alpha * (reward1 + gamma*Qval1 - Qval0)"
   ]
  },
  {
   "cell_type": "code",
   "execution_count": null,
   "metadata": {},
   "outputs": [],
   "source": [
    "class Player(object):\n",
    "\t# defines other players in BeerGame \n",
    "\tdef __init__(self, demand=0, backorders=0, inventory=4, incoming1=4, incoming2=4): \n",
    "\t\tself.backorders = backorders \n",
    "\t\tself.inventory = inventory\n",
    "\t\tself.demand = demand\n",
    "\t\tself.incoming1 = incoming1 \n",
    "\t\tself.incoming2 = incoming2 \n",
    "\n",
    "\tdef get_state(self): \n",
    "\t\treturn (inventory, backorders)\n",
    "\n",
    "\tdef fill_orders(self, orders): \n",
    "\t\tif self.inventory >= orders: \n",
    "\t\t\tself.inventory -= orders \n",
    "\t\telif self.inventory == 0: \n",
    "\t\t\tself.backorders += orders\n",
    "\t\telse: \n",
    "\t\t\tself.backorders = orders - self.inventory \n",
    "\t\t\tself.inventory = 0 \n",
    "\n",
    "\tdef receive_cases(self, cases):\n",
    "\t\tself.inventory += self.incoming2\n",
    "\t\tself.incoming2 = self.incoming1 \n",
    "\t\tself.incoming1 = cases "
   ]
  },
  {
   "cell_type": "code",
   "execution_count": null,
   "metadata": {},
   "outputs": [],
   "source": [
    "class BeerGame(object):\n",
    "\t# defines the beer game task \n",
    "\n",
    "\t# REQUIRES: lowBound <= demand <= upperBound\n",
    "\t\t# lowBound (int): lowest possible no. of cases one can order\n",
    "\t\t# highBound (int): highest possible no. of cases one can order \n",
    "\t\t# demand (int): external customer demand \n",
    "\t# EXPECTED: \n",
    "\t\t# span = array([lowbound, ..., highBound])\n",
    "\t\t# target = target\n",
    "        \n",
    "\tdef __init__(self, lowBound, highBound, inventory, demand):\n",
    "\t\tself.target = target \n",
    "\t\tself.actions = np.arange(lowBound, highBound+1)\n",
    "\t\tself.factory = Player(demand,0,inventory)\n",
    "\t\tself.distributer = Player(0,0,inventory) # td-learning agent\n",
    "\t\tself.wholesaler = Player(demand,0,inventory)\n",
    "\t\tself.retailer = Player(demand,0,inventory)\n",
    "\t\tself.orders = [4,0,4,4] # holds orders from last trial\n",
    "\t\tself.players = [self.factory, self.distributer, self.wholesaler, self.retailer]\n",
    "\n",
    "\t\tif (demand < lowBound or demand > highBound):\n",
    "\t\t\traise Exception('target not included in the indicated actions')\n",
    "\n",
    "\t# REQUIRES: \n",
    "\tdef get_state(self):\n",
    "\t\tself.distributer.get_state()\n",
    "\n",
    "\tdef get_reward(self, cases_ordered): \n",
    "\t\tn = len(self.players)\n",
    "\t\tfor i in range(n):\n",
    "\t\t\tself.player[i].receive_cases(self.orders[i])\n",
    "\t\tself.orders[1] = cases_ordered \n"
   ]
  },
  {
   "cell_type": "code",
   "execution_count": null,
   "metadata": {},
   "outputs": [],
   "source": [
    "def play_beergame(self, ntrials=1000, get_output=True):\n",
    "\t\t\"\"\" simulates agent performance on a beer game task \n",
    "\t\t::Arguments::\n",
    "\t\t\tntrials (int): number of trials to play bandits\n",
    "\t\t\tget_output (bool): returns output DF if True (default)\n",
    "\t\t::Returns::\n",
    "\t\t\tDataFrame (Ntrials x Nbandits) with trialwise Q and P\n",
    "\t\t\tvalues for each bandit\n",
    "\t\t\"\"\"\n",
    "        \n",
    "\t\tpdata = np.zeros((ntrials+1, self.nact))\n",
    "\t\tpdata[0, :] = np.array([1/self.nact]*self.nact)\n",
    "\t\tqdata = np.zeros_like(pdata)\n",
    "\n",
    "\t\tself.choices = []\n",
    "\t\tself.feedback = []\n",
    "\n",
    "\t\tfor t in range(ntrials):\n",
    "\t\t\t# select bandit arm (action) from state space \n",
    "\t\t\tact_i = np.random.choice(self.actions, p=pdata[t, :])\n",
    "\n",
    "\t\t\t# get reward for current action  \n",
    "\t\t\tr = self.bandits.get_reward(act_i)\n",
    "\n",
    "\t\t\tfor i in range(t): \n",
    "\t\t\t\tlast = self.choices[i]\n",
    "\n",
    "\t\t\t\t# update value of selected action\n",
    "\t\t\t\tqdata[i, last] = update_Qi(qdata[i, last], qdata[i+1, act_j], self.alpha, self.gamma)\n",
    "\n",
    "\t\t\t# broadcast old q-values for unchosen actions\n",
    "\t\t\tfor act_j in self.actions[np.where(self.actions!=act_i)]:\n",
    "\t\t\t\tqdata[t+1, act_j] = qdata[t, act_j]\n",
    "\n",
    "\t\t\t# update action selection probabilities and store data\n",
    "\t\t\tpdata[t+1, :] = update_Pall(qdata[t+1, :], self.beta)\n",
    "\t\t\tself.choices.append(act_i)\n",
    "\t\t\tself.feedback.append(r)\n",
    "\n",
    "\t\tself.pdata = pdata[1:, :]\n",
    "\t\tself.qdata = qdata[1:, :]\n",
    "\t\tself.make_output_df()\n",
    "\n",
    "\t\tif get_output:\n",
    "\t\t\treturn self.data.copy()\n",
    "\n",
    "\t\tdef make_output_df(self):\n",
    "\t\t\t\"\"\" \n",
    "\t\t\tgenerate output dataframe with trialwise Q and P measures for each\n",
    "\t\t\tbandit, as well as choice selection, and feedback \n",
    "\t\t\t\"\"\"\n",
    "\t\t\tdf = pd.concat([pd.DataFrame(dat) for dat in [self.qdata, self.pdata]], axis=1)\n",
    "\t\t\tcolumns = np.hstack(([['{}{}'.format(x, c) for c in self.actions] for x in ['q', 'p']]))\n",
    "\t\t\tdf.columns = columns\n",
    "\t\t\tdf.insert(0, 'trial', np.arange(1, df.shape[0]+1))\n",
    "\t\t\tdf['choice'] = self.choices\n",
    "\t\t\tdf['feedback'] = self.feedback\n",
    "\t\t\tr = np.array(self.bandits.rvalues)\n",
    "\t\t\tp = np.array(self.bandits.preward)\n",
    "\t\t\tdf['optimal'] = np.where(df['choice']==np.argmax(p * r), 1, 0)\n",
    "\t\t\tdf.insert(0, 'agent', 1)\n",
    "\t\t\tself.data = df.copy()\n"
   ]
  },
  {
   "cell_type": "markdown",
   "metadata": {},
   "source": [
    "# Results: "
   ]
  },
  {
   "cell_type": "code",
   "execution_count": null,
   "metadata": {},
   "outputs": [],
   "source": [
    "Image(url='https://raw.githubusercontent.com/pbelsey/Neural-Cog-Final-Project/master/SupplyChainz.png', width=1000)"
   ]
  },
  {
   "cell_type": "code",
   "execution_count": null,
   "metadata": {},
   "outputs": [],
   "source": [
    "td1 = TDagent()\n",
    "td1.play_beergame(1000)"
   ]
  },
  {
   "cell_type": "markdown",
   "metadata": {},
   "source": [
    "# Conclusions "
   ]
  },
  {
   "cell_type": "markdown",
   "metadata": {},
   "source": [
    "Through this project, we learned that ..\n",
    "Our hypothesis was\n",
    "\n",
    "updates the Q value depends on the current state of s, the action a, the reward r that an agent gets by choosing the action a and the next state s′\n",
    "\n",
    "convergent at low alpha levels (0.1)\n",
    "exhibiting higher convergence speed, lesser number of episodes to find optimal route and lesser computational time for different scenarios\n",
    "\n",
    "https://ieeexplore.ieee.org/document/7860190"
   ]
  }
 ],
 "metadata": {
  "kernelspec": {
   "display_name": "Python 3",
   "language": "python",
   "name": "python3"
  },
  "language_info": {
   "codemirror_mode": {
    "name": "ipython",
    "version": 3
   },
   "file_extension": ".py",
   "mimetype": "text/x-python",
   "name": "python",
   "nbconvert_exporter": "python",
   "pygments_lexer": "ipython3",
   "version": "3.6.5"
  }
 },
 "nbformat": 4,
 "nbformat_minor": 2
}
